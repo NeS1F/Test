{
 "cells": [
  {
   "cell_type": "code",
   "execution_count": 1,
   "metadata": {},
   "outputs": [
    {
     "name": "stdout",
     "output_type": "stream",
     "text": [
      "{'id': 1713086812, 'is_bot': True, 'first_name': 'Calibrations', 'username': 'CalibratoinBot', 'last_name': None, 'language_code': None, 'can_join_groups': True, 'can_read_all_group_messages': False, 'supports_inline_queries': False}\n"
     ]
    }
   ],
   "source": [
    "from bot import bot # Импортируем объект бота\n",
    "from messages import * # Инмпортируем все с файла сообщений\n",
    "from db import users_db\n",
    "from telebot import types\n",
    "\n",
    "global msg"
   ]
  },
  {
   "cell_type": "code",
   "execution_count": 2,
   "metadata": {},
   "outputs": [],
   "source": [
    "@bot.message_handler(commands=['start'])\n",
    "# Выполняется, когда пользователь нажимает на start\n",
    "def send_welcome(message):\n",
    "    if not users_db.find_one({'chat_id': message.chat.id}):\n",
    "        users_db.insert_one({'chat_id': message.chat.id, 'username': message.from_user.username})\n",
    "        bot.reply_to(message, f'{HELLO_MESSAGE}, {message.from_user.first_name}, /help')\n",
    "    else:\n",
    "        bot.send_message(message.chat.id, f'{HELLO_AGAIN_MESSAGE}, /help')"
   ]
  },
  {
   "cell_type": "code",
   "execution_count": 3,
   "metadata": {},
   "outputs": [],
   "source": [
    "@bot.message_handler(commands=['help'])\n",
    "# Выполняется, когда пользователь нажимает на start\n",
    "def send_welcome(message):\n",
    "    if message.chat.id != 396751749:\n",
    "        bot.reply_to(message, f'{HELLO_MESSAGE}, {message.from_user.first_name}, no admin')\n",
    "    else:\n",
    "        bot.reply_to(message, f'{HELLO_MESSAGE}, {message.from_user.first_name}, admin')"
   ]
  },
  {
   "cell_type": "code",
   "execution_count": 4,
   "metadata": {},
   "outputs": [],
   "source": [
    "@bot.message_handler(commands=['menu'])\n",
    "def get_text_messages(message):\n",
    "    if message.chat.id != 396751749 and message.text == '/menu':\n",
    "        bot.reply_to(message, f'{DENY}, {message.from_user.first_name}')\n",
    "    elif message.chat.id == 396751749 and message.text == '/menu':\n",
    "        keyboard = types.InlineKeyboardMarkup()\n",
    "        key_toeveryone = types.InlineKeyboardButton(text='Надіслати усім', callback_data='toeveryone')\n",
    "        keyboard.add(key_toeveryone)\n",
    "        bot.send_message(message.from_user.id, text='Меню', reply_markup=keyboard)"
   ]
  },
  {
   "cell_type": "code",
   "execution_count": 5,
   "metadata": {},
   "outputs": [],
   "source": [
    "@bot.message_handler(commands=['emailcreate'])\n",
    "def email_create_request_domain(message):\n",
    "    if message.text.lower() == 'отмена':\n",
    "        bot.send_message(message.from_user.id, 'На нетъ и суда нетъ')\n",
    "        return\n",
    "    send = bot.send_message(message.chat.id, 'Зьдати емейлъ\\nПочтовый ящикъ:\\n'\n",
    "                                             'example.ru, example1.ru, example2.ru, example3.ru, example4.ru ')\n",
    "    bot.register_next_step_handler(send, email_create_request_data)"
   ]
  },
  {
   "cell_type": "code",
   "execution_count": 6,
   "metadata": {},
   "outputs": [],
   "source": [
    "#@bot.message_handler(content_types=['text'])\n",
    "#def get_text_messages(message):\n",
    "#    if message.text.lower() in ['привет', 'привіт', 'hello', 'здоров', 'hi', 'hola']:\n",
    "#        bot.send_message(message.from_user.id, 'Привіт!')\n",
    "#    elif message.text.lower() in ['блять', 'fuck', 'сука', 'пизда', 'хуй', 'бля', 'шалава', 'блядь', 'нахуй', 'мудак', 'підарас', 'підар', 'підор', 'підарасіна', 'псіна', 'псіна сутула']:\n",
    "#        bot.send_message(message.from_user.id, 'УУУ хтось хоче получити по онлайн їбалу -_-')\n",
    "#    elif message.text.lower() in ['nigger', 'nigga', 'ніга', 'нігер']:\n",
    "#        bot.send_message(message.from_user.id, 'Тссс! Твітч почує))')\n",
    " #   else:\n",
    "  #      bot.send_message(message.from_user.id, 'Я ще маленький і вмійю тільки вітатися. Привіт')\n",
    "#msg = message.text.lower()\n",
    "#return msg"
   ]
  },
  {
   "cell_type": "code",
   "execution_count": 7,
   "metadata": {},
   "outputs": [],
   "source": [
    "@bot.callback_query_handler(func=lambda call: True)\n",
    "def callback_worker(call):\n",
    "    # Если нажали на одну из 12 кнопок — выводим гороскоп\n",
    "    if call.data == 'toeveryone':\n",
    "        # Формируем гороскоп\n",
    "        bot.send_message(call.message.chat.id, 'відправлено')\n",
    "    \n",
    "        @bot.message_handler(content_types=['text'])\n",
    "        def get_text_messages(message):\n",
    "            #bot.register_next_step_handler(message.text.lower(), send_message_to_all_users)\n",
    "            msg = message.text.lower()\n",
    "            return msg\n",
    "        def send_message_to_all_users(message):\n",
    "            # Функция для рассылки, принимает сообщение\n",
    "            message=get_text_messages()\n",
    "            if message != '':\n",
    "                # Перебираем всех пользователей в бд\n",
    "                for user in users_db.find():\n",
    "                    try:\n",
    "                        bot.send_message(user['chat_id'], message)\n",
    "                    # Если какая-то ошибка - выводим это\n",
    "                    except Exception as e:\n",
    "                        bot.reply_to(message, 'Something wrong')\n",
    "                # Пытаемся отправить сообщение\n",
    "        #msg = random.choice(first)"
   ]
  },
  {
   "cell_type": "code",
   "execution_count": 8,
   "metadata": {},
   "outputs": [],
   "source": [
    "if __name__ == '__main__':\n",
    "     bot.polling(none_stop=True)"
   ]
  },
  {
   "cell_type": "code",
   "execution_count": null,
   "metadata": {},
   "outputs": [],
   "source": []
  }
 ],
 "metadata": {
  "kernelspec": {
   "display_name": "Python 3",
   "language": "python",
   "name": "python3"
  },
  "language_info": {
   "codemirror_mode": {
    "name": "ipython",
    "version": 3
   },
   "file_extension": ".py",
   "mimetype": "text/x-python",
   "name": "python",
   "nbconvert_exporter": "python",
   "pygments_lexer": "ipython3",
   "version": "3.8.5"
  }
 },
 "nbformat": 4,
 "nbformat_minor": 4
}
